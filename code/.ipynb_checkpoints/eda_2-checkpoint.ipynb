{
 "cells": [
  {
   "cell_type": "code",
   "execution_count": 1,
   "metadata": {},
   "outputs": [],
   "source": [
    "import pandas as pd\n",
    "from pathlib import Path\n",
    "import plotly.graph_objects as go\n",
    "from plotly.subplots import make_subplots\n",
    "import plotly.express as px\n",
    "import seaborn as sns\n",
    "import matplotlib.pyplot as plt\n",
    "import numpy as np"
   ]
  },
  {
   "cell_type": "code",
   "execution_count": 2,
   "metadata": {},
   "outputs": [],
   "source": [
    "parent_folder = Path('C:/Users/s.coll/Documents/Udacity Data Science Course/01-Project Airlines')\n",
    "dataset_folder = Path('C:/Users/s.coll/Documents/Udacity Data Science Course/01-Project Airlines/data')\n",
    "dataset_path = dataset_folder/'Clean_Dataset.csv'"
   ]
  },
  {
   "cell_type": "markdown",
   "metadata": {},
   "source": [
    "### Load Data"
   ]
  },
  {
   "cell_type": "code",
   "execution_count": 3,
   "metadata": {},
   "outputs": [],
   "source": [
    "df_all = pd.read_csv(dataset_path, index_col=0)\n",
    "indep_cols = [col for col in df_all.columns if col != 'price']"
   ]
  },
  {
   "cell_type": "markdown",
   "metadata": {},
   "source": [
    "### Process Data"
   ]
  },
  {
   "cell_type": "code",
   "execution_count": 4,
   "metadata": {},
   "outputs": [],
   "source": [
    "#convert indian rupee to euro (1 Indian Rupee = 0.012 Euro)\n",
    "df = df_all.copy()\n",
    "df['price'] = df['price'] * 0.012\n",
    "#define categorical variables\n",
    "df['stops'] = df['stops'].astype('category')\n",
    "df['departure_time'] = df['departure_time'].astype('category')\n",
    "df['arrival_time'] = df['arrival_time'].astype('category')\n",
    "#order categories\n",
    "df['stops'] = df['stops'].cat.set_categories(['zero', 'one', 'two_or_more'],ordered=True)\n",
    "df['departure_time'] = df['departure_time'].cat.set_categories(['Early_Morning', 'Morning', 'Afternoon', 'Evening', 'Night', 'Late_Night'],ordered=True)\n",
    "df['arrival_time'] = df['arrival_time'].cat.set_categories(['Early_Morning', 'Morning', 'Afternoon', 'Evening', 'Night', 'Late_Night'],ordered=True)\n",
    "#bin data\n",
    "bins_hours = np.arange(start = 0, stop = 50, step = 1)\n",
    "df['duration_h'] = pd.cut(df['duration'],bins_hours, labels=bins_hours[1:])\n",
    "df['duration_h'] = df['duration_h'].astype(float)\n"
   ]
  },
  {
   "cell_type": "code",
   "execution_count": 5,
   "metadata": {},
   "outputs": [
    {
     "data": {
      "text/plain": [
       "Index(['airline', 'flight', 'source_city', 'departure_time', 'stops',\n",
       "       'arrival_time', 'destination_city', 'class', 'duration', 'days_left',\n",
       "       'price', 'duration_h'],\n",
       "      dtype='object')"
      ]
     },
     "execution_count": 5,
     "metadata": {},
     "output_type": "execute_result"
    }
   ],
   "source": [
    "df.columns"
   ]
  },
  {
   "cell_type": "markdown",
   "metadata": {},
   "source": [
    "## PLOTS"
   ]
  },
  {
   "cell_type": "markdown",
   "metadata": {},
   "source": [
    "### Heatmap"
   ]
  },
  {
   "cell_type": "code",
   "execution_count": null,
   "metadata": {},
   "outputs": [],
   "source": [
    "#duration (bin in hours) plot error , class (differnt plots), stops (different color)\n",
    "fig = px.bar(df, x='duration_h', y='price') #, color='stops'\n",
    "fig.show()\n"
   ]
  }
 ],
 "metadata": {
  "kernelspec": {
   "display_name": "Python 3 (ipykernel)",
   "language": "python",
   "name": "python3"
  },
  "language_info": {
   "codemirror_mode": {
    "name": "ipython",
    "version": 3
   },
   "file_extension": ".py",
   "mimetype": "text/x-python",
   "name": "python",
   "nbconvert_exporter": "python",
   "pygments_lexer": "ipython3",
   "version": "3.9.13"
  },
  "vscode": {
   "interpreter": {
    "hash": "aa7e01b38f116de83047fe7876193bff4735967286a4f85604c7cd64369cbf8f"
   }
  }
 },
 "nbformat": 4,
 "nbformat_minor": 2
}
